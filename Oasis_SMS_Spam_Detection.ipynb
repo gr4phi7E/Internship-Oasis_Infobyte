{
 "cells": [
  {
   "cell_type": "markdown",
   "id": "51683fcf-9d32-49db-8b47-4d8c013e88db",
   "metadata": {},
   "source": [
    "<div style=\"text-align: center;\">\n",
    "     <h1>OASIS INFOBYTE </h1>\n",
    "    <h3>Author:-Srimanta Ghosh </h3>\n",
    "    <h4>Task-4 </h4>\n",
    "     <h2>Email Spam Detection With ML</h2>\n",
    "</div>"
   ]
  },
  {
   "cell_type": "markdown",
   "id": "1a58d433-872f-421f-b27e-b223b52e3f2b",
   "metadata": {},
   "source": [
    "## Introduction\n",
    "\n",
    "The following documentation outlines the steps involved in building a machine learning model for Email spam detection using Python and various libraries such as Pandas, Matplotlib, Seaborn, and Scikit-learn. Each section describes a specific part of the code, providing clarity and understanding of the process."
   ]
  },
  {
   "cell_type": "markdown",
   "id": "2506a315-3ea4-429e-960f-aa52a7470f66",
   "metadata": {},
   "source": [
    "1. **Importing Libraries:** Imports necessary libraries for data manipulation, visualization, machine learning, and evaluation."
   ]
  },
  {
   "cell_type": "code",
   "execution_count": 1,
   "id": "b5841f62-3b30-4d2f-92b6-9809bf9a2100",
   "metadata": {},
   "outputs": [],
   "source": [
    "import pandas as pd\n",
    "import matplotlib.pyplot as plt\n",
    "import seaborn as sns\n",
    "from sklearn.model_selection import train_test_split\n",
    "from sklearn.feature_extraction.text import CountVectorizer\n",
    "from sklearn.neighbors import KNeighborsClassifier\n",
    "from sklearn.metrics import classification_report, confusion_matrix, roc_curve, auc\n",
    "from sklearn.preprocessing import LabelEncoder"
   ]
  },
  {
   "cell_type": "markdown",
   "id": "2306ba40-af37-4604-89da-46736a2ce061",
   "metadata": {},
   "source": [
    "2. **Load the Dataset:** Loads the dataset containing Email messages, assumed to be stored in a CSV file format."
   ]
  },
  {
   "cell_type": "code",
   "execution_count": 2,
   "id": "ab0409eb-1fc1-4af4-b90f-8e324d4f11a0",
   "metadata": {},
   "outputs": [],
   "source": [
    "# Load the dataset\n",
    "data = pd.read_csv(r\"C:\\Users\\gh22s\\Downloads\\spam.csv\", encoding='latin1')"
   ]
  },
  {
   "cell_type": "markdown",
   "id": "8a30147c-8e81-4d70-8a2b-22e4885469e9",
   "metadata": {},
   "source": [
    "3. **Encoding Labels:** Encodes the categorical labels ('spam' and 'ham') into numerical format (0 and 1)."
   ]
  },
  {
   "cell_type": "code",
   "execution_count": 3,
   "id": "22fd60bf-eb8d-4af9-a9ba-fd8774cc5d76",
   "metadata": {},
   "outputs": [],
   "source": [
    "# Encode labels to binary format\n",
    "label_encoder = LabelEncoder()\n",
    "data['v1'] = label_encoder.fit_transform(data['v1'])"
   ]
  },
  {
   "cell_type": "markdown",
   "id": "2d912643-fd41-45e0-952a-77298830b9bc",
   "metadata": {},
   "source": [
    "4. **Preparing Data:** Creates a new DataFrame containing only the encoded labels and the Email text."
   ]
  },
  {
   "cell_type": "code",
   "execution_count": 4,
   "id": "c1743037-fb6c-4c27-86c0-1ccf5e69a1d9",
   "metadata": {},
   "outputs": [
    {
     "data": {
      "text/html": [
       "<div>\n",
       "<style scoped>\n",
       "    .dataframe tbody tr th:only-of-type {\n",
       "        vertical-align: middle;\n",
       "    }\n",
       "\n",
       "    .dataframe tbody tr th {\n",
       "        vertical-align: top;\n",
       "    }\n",
       "\n",
       "    .dataframe thead th {\n",
       "        text-align: right;\n",
       "    }\n",
       "</style>\n",
       "<table border=\"1\" class=\"dataframe\">\n",
       "  <thead>\n",
       "    <tr style=\"text-align: right;\">\n",
       "      <th></th>\n",
       "      <th>v1</th>\n",
       "      <th>v2</th>\n",
       "    </tr>\n",
       "  </thead>\n",
       "  <tbody>\n",
       "    <tr>\n",
       "      <th>0</th>\n",
       "      <td>0</td>\n",
       "      <td>Go until jurong point, crazy.. Available only ...</td>\n",
       "    </tr>\n",
       "    <tr>\n",
       "      <th>1</th>\n",
       "      <td>0</td>\n",
       "      <td>Ok lar... Joking wif u oni...</td>\n",
       "    </tr>\n",
       "    <tr>\n",
       "      <th>2</th>\n",
       "      <td>1</td>\n",
       "      <td>Free entry in 2 a wkly comp to win FA Cup fina...</td>\n",
       "    </tr>\n",
       "    <tr>\n",
       "      <th>3</th>\n",
       "      <td>0</td>\n",
       "      <td>U dun say so early hor... U c already then say...</td>\n",
       "    </tr>\n",
       "    <tr>\n",
       "      <th>4</th>\n",
       "      <td>0</td>\n",
       "      <td>Nah I don't think he goes to usf, he lives aro...</td>\n",
       "    </tr>\n",
       "  </tbody>\n",
       "</table>\n",
       "</div>"
      ],
      "text/plain": [
       "   v1                                                 v2\n",
       "0   0  Go until jurong point, crazy.. Available only ...\n",
       "1   0                      Ok lar... Joking wif u oni...\n",
       "2   1  Free entry in 2 a wkly comp to win FA Cup fina...\n",
       "3   0  U dun say so early hor... U c already then say...\n",
       "4   0  Nah I don't think he goes to usf, he lives aro..."
      ]
     },
     "execution_count": 4,
     "metadata": {},
     "output_type": "execute_result"
    }
   ],
   "source": [
    "df = data[['v1', 'v2']].copy()\n",
    "\n",
    "# Display the new DataFrame\n",
    "df.head()"
   ]
  },
  {
   "cell_type": "markdown",
   "id": "804dca1f-7337-44d3-9e46-b01b090b188b",
   "metadata": {},
   "source": [
    "5. **Feature Engineering:** Converts the text data into numerical features using CountVectorizer, which converts text into a matrix of token counts."
   ]
  },
  {
   "cell_type": "code",
   "execution_count": 5,
   "id": "9b1cd1ca-c7ca-44f2-92d4-88caec6f2cc0",
   "metadata": {},
   "outputs": [],
   "source": [
    "# Initialize CountVectorizer\n",
    "vectorizer = CountVectorizer()\n",
    "\n",
    "# Fit and transform the 'v2' column\n",
    "X = vectorizer.fit_transform(df['v2'])"
   ]
  },
  {
   "cell_type": "markdown",
   "id": "a30548ef-5d21-42a2-805a-d3add56221f5",
   "metadata": {},
   "source": [
    "6. **Concatenating DataFrames:** Concatenates the original DataFrame with the new DataFrame containing the transformed text features."
   ]
  },
  {
   "cell_type": "code",
   "execution_count": 6,
   "id": "699aa35b-e85f-4ce3-bb11-974a80e44624",
   "metadata": {},
   "outputs": [
    {
     "data": {
      "text/html": [
       "<div>\n",
       "<style scoped>\n",
       "    .dataframe tbody tr th:only-of-type {\n",
       "        vertical-align: middle;\n",
       "    }\n",
       "\n",
       "    .dataframe tbody tr th {\n",
       "        vertical-align: top;\n",
       "    }\n",
       "\n",
       "    .dataframe thead th {\n",
       "        text-align: right;\n",
       "    }\n",
       "</style>\n",
       "<table border=\"1\" class=\"dataframe\">\n",
       "  <thead>\n",
       "    <tr style=\"text-align: right;\">\n",
       "      <th></th>\n",
       "      <th>v1</th>\n",
       "      <th>00</th>\n",
       "      <th>000</th>\n",
       "      <th>000pes</th>\n",
       "      <th>008704050406</th>\n",
       "      <th>0089</th>\n",
       "      <th>0121</th>\n",
       "      <th>01223585236</th>\n",
       "      <th>01223585334</th>\n",
       "      <th>0125698789</th>\n",
       "      <th>...</th>\n",
       "      <th>ó_</th>\n",
       "      <th>û_</th>\n",
       "      <th>û_thanks</th>\n",
       "      <th>ûªm</th>\n",
       "      <th>ûªt</th>\n",
       "      <th>ûªve</th>\n",
       "      <th>ûï</th>\n",
       "      <th>ûïharry</th>\n",
       "      <th>ûò</th>\n",
       "      <th>ûówell</th>\n",
       "    </tr>\n",
       "  </thead>\n",
       "  <tbody>\n",
       "    <tr>\n",
       "      <th>0</th>\n",
       "      <td>0</td>\n",
       "      <td>0</td>\n",
       "      <td>0</td>\n",
       "      <td>0</td>\n",
       "      <td>0</td>\n",
       "      <td>0</td>\n",
       "      <td>0</td>\n",
       "      <td>0</td>\n",
       "      <td>0</td>\n",
       "      <td>0</td>\n",
       "      <td>...</td>\n",
       "      <td>0</td>\n",
       "      <td>0</td>\n",
       "      <td>0</td>\n",
       "      <td>0</td>\n",
       "      <td>0</td>\n",
       "      <td>0</td>\n",
       "      <td>0</td>\n",
       "      <td>0</td>\n",
       "      <td>0</td>\n",
       "      <td>0</td>\n",
       "    </tr>\n",
       "    <tr>\n",
       "      <th>1</th>\n",
       "      <td>0</td>\n",
       "      <td>0</td>\n",
       "      <td>0</td>\n",
       "      <td>0</td>\n",
       "      <td>0</td>\n",
       "      <td>0</td>\n",
       "      <td>0</td>\n",
       "      <td>0</td>\n",
       "      <td>0</td>\n",
       "      <td>0</td>\n",
       "      <td>...</td>\n",
       "      <td>0</td>\n",
       "      <td>0</td>\n",
       "      <td>0</td>\n",
       "      <td>0</td>\n",
       "      <td>0</td>\n",
       "      <td>0</td>\n",
       "      <td>0</td>\n",
       "      <td>0</td>\n",
       "      <td>0</td>\n",
       "      <td>0</td>\n",
       "    </tr>\n",
       "    <tr>\n",
       "      <th>2</th>\n",
       "      <td>1</td>\n",
       "      <td>0</td>\n",
       "      <td>0</td>\n",
       "      <td>0</td>\n",
       "      <td>0</td>\n",
       "      <td>0</td>\n",
       "      <td>0</td>\n",
       "      <td>0</td>\n",
       "      <td>0</td>\n",
       "      <td>0</td>\n",
       "      <td>...</td>\n",
       "      <td>0</td>\n",
       "      <td>0</td>\n",
       "      <td>0</td>\n",
       "      <td>0</td>\n",
       "      <td>0</td>\n",
       "      <td>0</td>\n",
       "      <td>0</td>\n",
       "      <td>0</td>\n",
       "      <td>0</td>\n",
       "      <td>0</td>\n",
       "    </tr>\n",
       "    <tr>\n",
       "      <th>3</th>\n",
       "      <td>0</td>\n",
       "      <td>0</td>\n",
       "      <td>0</td>\n",
       "      <td>0</td>\n",
       "      <td>0</td>\n",
       "      <td>0</td>\n",
       "      <td>0</td>\n",
       "      <td>0</td>\n",
       "      <td>0</td>\n",
       "      <td>0</td>\n",
       "      <td>...</td>\n",
       "      <td>0</td>\n",
       "      <td>0</td>\n",
       "      <td>0</td>\n",
       "      <td>0</td>\n",
       "      <td>0</td>\n",
       "      <td>0</td>\n",
       "      <td>0</td>\n",
       "      <td>0</td>\n",
       "      <td>0</td>\n",
       "      <td>0</td>\n",
       "    </tr>\n",
       "    <tr>\n",
       "      <th>4</th>\n",
       "      <td>0</td>\n",
       "      <td>0</td>\n",
       "      <td>0</td>\n",
       "      <td>0</td>\n",
       "      <td>0</td>\n",
       "      <td>0</td>\n",
       "      <td>0</td>\n",
       "      <td>0</td>\n",
       "      <td>0</td>\n",
       "      <td>0</td>\n",
       "      <td>...</td>\n",
       "      <td>0</td>\n",
       "      <td>0</td>\n",
       "      <td>0</td>\n",
       "      <td>0</td>\n",
       "      <td>0</td>\n",
       "      <td>0</td>\n",
       "      <td>0</td>\n",
       "      <td>0</td>\n",
       "      <td>0</td>\n",
       "      <td>0</td>\n",
       "    </tr>\n",
       "  </tbody>\n",
       "</table>\n",
       "<p>5 rows × 8673 columns</p>\n",
       "</div>"
      ],
      "text/plain": [
       "   v1  00  000  000pes  008704050406  0089  0121  01223585236  01223585334  \\\n",
       "0   0   0    0       0             0     0     0            0            0   \n",
       "1   0   0    0       0             0     0     0            0            0   \n",
       "2   1   0    0       0             0     0     0            0            0   \n",
       "3   0   0    0       0             0     0     0            0            0   \n",
       "4   0   0    0       0             0     0     0            0            0   \n",
       "\n",
       "   0125698789  ...  ó_  û_  û_thanks  ûªm  ûªt  ûªve  ûï  ûïharry  ûò  ûówell  \n",
       "0           0  ...   0   0         0    0    0     0   0        0   0       0  \n",
       "1           0  ...   0   0         0    0    0     0   0        0   0       0  \n",
       "2           0  ...   0   0         0    0    0     0   0        0   0       0  \n",
       "3           0  ...   0   0         0    0    0     0   0        0   0       0  \n",
       "4           0  ...   0   0         0    0    0     0   0        0   0       0  \n",
       "\n",
       "[5 rows x 8673 columns]"
      ]
     },
     "execution_count": 6,
     "metadata": {},
     "output_type": "execute_result"
    }
   ],
   "source": [
    "# Convert the sparse matrix to a DataFrame\n",
    "X_df = pd.DataFrame(X.toarray(), columns=vectorizer.get_feature_names_out())\n",
    "\n",
    "# Drop the original 'email_contents' column from the original DataFrame\n",
    "df_without_original_column = df.drop(columns=['v2'])\n",
    "\n",
    "# Concatenate the new DataFrame with the original DataFrame without the original column\n",
    "new_df = pd.concat([df_without_original_column, X_df], axis=1)\n",
    "\n",
    "# Display the new DataFrame with the transformed columns\n",
    "new_df.head()"
   ]
  },
  {
   "cell_type": "markdown",
   "id": "cd45b5d8-d259-4e4b-8ea3-c1a25791136a",
   "metadata": {},
   "source": [
    "7. **Data Splitting:** Splits the data into training and testing sets for model evaluation."
   ]
  },
  {
   "cell_type": "code",
   "execution_count": 7,
   "id": "3b343602-f0c4-4306-8df7-a93da2f85094",
   "metadata": {},
   "outputs": [],
   "source": [
    "# Assuming 'v1' is the target column\n",
    "X = new_df.drop(columns=['v1'])  # Features\n",
    "y = new_df['v1']  # Target\n",
    "\n",
    "# Split the data into training and testing sets\n",
    "X_train, X_test, y_train, y_test = train_test_split(X, y, test_size=0.2, random_state=42)"
   ]
  },
  {
   "cell_type": "markdown",
   "id": "912775bd-df6d-4c59-851f-10afed631f25",
   "metadata": {},
   "source": [
    "8. **Model Training:** Initializes and trains a K-Nearest Neighbors classifier."
   ]
  },
  {
   "cell_type": "code",
   "execution_count": 8,
   "id": "7c53eefc-f522-47e4-aac3-2076baf44fc5",
   "metadata": {},
   "outputs": [],
   "source": [
    "# Initialize K-Nearest Neighbors classifier\n",
    "k = 10  # Choose the number of neighbors\n",
    "classifier = KNeighborsClassifier(n_neighbors=k)\n",
    "\n",
    "# Fit the model\n",
    "classifier.fit(X_train, y_train)\n",
    "\n",
    "# Predictions\n",
    "y_pred = classifier.predict(X_test)"
   ]
  },
  {
   "cell_type": "markdown",
   "id": "624348f0-b181-4975-a9cf-ec461fee9c83",
   "metadata": {},
   "source": [
    "9. **Model Evaluation:** Evaluates the model's accuracy on the test set."
   ]
  },
  {
   "cell_type": "code",
   "execution_count": 9,
   "id": "51e7a35b-49e7-4d7b-b967-216373d88b43",
   "metadata": {},
   "outputs": [
    {
     "name": "stdout",
     "output_type": "stream",
     "text": [
      "Accuracy: 0.8941704035874439\n"
     ]
    }
   ],
   "source": [
    "# Evaluate the model\n",
    "accuracy = classifier.score(X_test, y_test)\n",
    "print(\"Accuracy:\", accuracy)"
   ]
  },
  {
   "cell_type": "markdown",
   "id": "90e8a7c1-bacf-4fcc-8fcc-8e9afd74cc28",
   "metadata": {},
   "source": [
    "10. **Classification Report:** Prints a detailed classification report including precision, recall, and F1-score."
   ]
  },
  {
   "cell_type": "code",
   "execution_count": 10,
   "id": "b8cf1032-fb97-45e9-a0f2-68aa9141f9a4",
   "metadata": {},
   "outputs": [
    {
     "name": "stdout",
     "output_type": "stream",
     "text": [
      "Classification Report:\n",
      "\n",
      "              precision    recall  f1-score   support\n",
      "\n",
      "           0       0.89      1.00      0.94       965\n",
      "           1       1.00      0.21      0.35       150\n",
      "\n",
      "    accuracy                           0.89      1115\n",
      "   macro avg       0.95      0.61      0.65      1115\n",
      "weighted avg       0.91      0.89      0.86      1115\n",
      "\n"
     ]
    }
   ],
   "source": [
    "# Print classification report with better formatting\n",
    "print(\"Classification Report:\\n\")\n",
    "print(f\"{classification_report(y_test, y_pred)}\")"
   ]
  },
  {
   "cell_type": "markdown",
   "id": "fae0c8fc-1870-48b5-9d5f-8dbf84825bb3",
   "metadata": {},
   "source": [
    "11. **Confusion Matrix Visualization:** Visualizes the confusion matrix to evaluate the model's performance."
   ]
  },
  {
   "cell_type": "code",
   "execution_count": 11,
   "id": "d72d5113-b510-49f0-93cb-848cfcc34d18",
   "metadata": {},
   "outputs": [
    {
     "data": {
      "image/png": "[encoded data removed]",
      "text/plain": [
       "<Figure size 1500x500 with 2 Axes>"
      ]
     },
     "metadata": {},
     "output_type": "display_data"
    }
   ],
   "source": [
    "# Generate confusion matrix\n",
    "conf_matrix = confusion_matrix(y_test, y_pred)\n",
    "\n",
    "# Plot confusion matrix\n",
    "plt.figure(figsize=(15, 5))\n",
    "sns.heatmap(conf_matrix, annot=True, fmt='d', cmap='Blues', xticklabels=['ham', 'spam'], yticklabels=['ham', 'spam'])\n",
    "plt.xlabel('Predicted Label')\n",
    "plt.ylabel('True Label')\n",
    "plt.title('Confusion Matrix')\n",
    "plt.show()"
   ]
  },
  {
   "cell_type": "markdown",
   "id": "1f1ebb22-bd5e-42fa-8377-076d31d49f55",
   "metadata": {},
   "source": [
    "13. **ROC Curve Visualization:** Visualizes the ROC curve to evaluate the model's performance in binary classification tasks."
   ]
  },
  {
   "cell_type": "code",
   "execution_count": 12,
   "id": "16b7169a-10d6-4721-8c16-4c085f31b0ca",
   "metadata": {},
   "outputs": [
    {
     "data": {
      "image/png": "[encoded data removed]",
      "text/plain": [
       "<Figure size 1500x500 with 1 Axes>"
      ]
     },
     "metadata": {},
     "output_type": "display_data"
    }
   ],
   "source": [
    "# Predict probabilities\n",
    "y_probs = classifier.predict_proba(X_test)\n",
    "y_probs_spam = y_probs[:, 1]  # Probability of being spam\n",
    "\n",
    "# Compute ROC curve and AUC score\n",
    "fpr, tpr, thresholds = roc_curve(y_test, y_probs_spam)\n",
    "roc_auc = auc(fpr, tpr)\n",
    "\n",
    "# Plot ROC curve\n",
    "plt.figure(figsize=(15, 5))\n",
    "plt.plot(fpr, tpr, color='darkorange', lw=2, label='ROC curve (AUC = %0.2f)' % roc_auc)\n",
    "plt.plot([0, 1], [0, 1], color='navy', lw=2, linestyle='--')\n",
    "plt.xlim([0.0, 1.0])\n",
    "plt.ylim([0.0, 1.05])\n",
    "plt.xlabel('False Positive Rate')\n",
    "plt.ylabel('True Positive Rate')\n",
    "plt.title('ROC Curve')\n",
    "plt.legend(loc=\"lower right\")\n",
    "plt.show()"
   ]
  },
  {
   "cell_type": "markdown",
   "id": "1df04a99-e5cc-4871-aa99-ed38092a5699",
   "metadata": {},
   "source": [
    "## Conclusion:\n",
    "\n",
    "In conclusion, the implemented Email spam detection model demonstrates the application of machine learning techniques to solve a real-world problem of identifying spam messages. By following a systematic approach, the model achieves a certain level of accuracy in distinguishing between spam and ham messages. The evaluation metrics and visualizations provide insights into the model's performance and help in understanding its strengths and weaknesses. Overall, this code serves as a foundation for building more sophisticated spam detection systems and showcases the capabilities of Python and machine learning in addressing text classification tasks."
   ]
  }
 ],
 "metadata": {
  "kernelspec": {
   "display_name": "Python 3 (ipykernel)",
   "language": "python",
   "name": "python3"
  },
  "language_info": {
   "codemirror_mode": {
    "name": "ipython",
    "version": 3
   },
   "file_extension": ".py",
   "mimetype": "text/x-python",
   "name": "python",
   "nbconvert_exporter": "python",
   "pygments_lexer": "ipython3",
   "version": "3.12.2"
  }
 },
 "nbformat": 4,
 "nbformat_minor": 5
}
